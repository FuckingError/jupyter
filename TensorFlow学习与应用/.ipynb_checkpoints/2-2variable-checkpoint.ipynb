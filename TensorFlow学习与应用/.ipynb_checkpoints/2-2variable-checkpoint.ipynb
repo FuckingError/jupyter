{
 "cells": [
  {
   "cell_type": "code",
   "execution_count": 1,
   "metadata": {
    "collapsed": true
   },
   "outputs": [],
   "source": [
    "import tensorflow as tf"
   ]
  },
  {
   "cell_type": "code",
   "execution_count": 2,
   "metadata": {
    "collapsed": false
   },
   "outputs": [
    {
     "name": "stdout",
     "output_type": "stream",
     "text": [
      "[-1  1]\n"
     ]
    }
   ],
   "source": [
    "#创建一个op 变量 矩阵 一行两列\n",
    "x = tf.Variable([1,2])\n",
    "#变量初始化\n",
    "init = tf.global_variables_initializer()\n",
    "#创建一个op 常量\n",
    "a = tf.constant([3,3])\n",
    "#op 矩阵减法 x-a\n",
    "sub = tf.subtract(x,a)\n",
    "#op 矩阵加法 用a-b的结果加上a\n",
    "add = tf.add(x,sub)\n",
    "\n",
    "with tf.Session() as sess:\n",
    "    sess.run(init)\n",
    "    print(sess.run(add))\n"
   ]
  },
  {
   "cell_type": "markdown",
   "metadata": {},
   "source": [
    "#### ！变量 valiable 需要进行初始化"
   ]
  },
  {
   "cell_type": "markdown",
   "metadata": {},
   "source": [
    "### 再做一个实例\n",
    "实现变量从0循环累加到5"
   ]
  },
  {
   "cell_type": "code",
   "execution_count": 14,
   "metadata": {
    "collapsed": false
   },
   "outputs": [
    {
     "name": "stdout",
     "output_type": "stream",
     "text": [
      "0\n",
      "1\n",
      "2\n",
      "3\n",
      "4\n",
      "5\n"
     ]
    }
   ],
   "source": [
    "y = tf.Variable(0,name='counter')\n",
    "init = tf.global_variables_initializer()\n",
    "\n",
    "new_value = tf.add(y,1)\n",
    "#赋值给y 在tensorflow中变量的赋值不能使用等号  返回更新后的值\n",
    "#！ 将需要在session中run的操作 都以操作命名 其他的一些操作按返回值命名\n",
    "update = tf.assign(y,new_value)\n",
    "\n",
    "with tf.Session() as sess:\n",
    "    sess.run(init)\n",
    "    # !想打印变量 得在print中使用 sess.run(变量名)\n",
    "    print(sess.run(y))\n",
    "    for i in range(5):\n",
    "        print(sess.run(update))\n",
    "        \n"
   ]
  },
  {
   "cell_type": "markdown",
   "metadata": {},
   "source": [
    "#### ！ 将需要在session中run的操作 都以操作命名 其他的一些操作按返回值命名"
   ]
  },
  {
   "cell_type": "code",
   "execution_count": null,
   "metadata": {
    "collapsed": true
   },
   "outputs": [],
   "source": []
  }
 ],
 "metadata": {
  "anaconda-cloud": {},
  "kernelspec": {
   "display_name": "Python [default]",
   "language": "python",
   "name": "python3"
  },
  "language_info": {
   "codemirror_mode": {
    "name": "ipython",
    "version": 3
   },
   "file_extension": ".py",
   "mimetype": "text/x-python",
   "name": "python",
   "nbconvert_exporter": "python",
   "pygments_lexer": "ipython3",
   "version": "3.5.2"
  }
 },
 "nbformat": 4,
 "nbformat_minor": 1
}
