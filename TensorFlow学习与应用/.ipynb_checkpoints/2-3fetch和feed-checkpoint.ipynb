{
 "cells": [
  {
   "cell_type": "code",
   "execution_count": 1,
   "metadata": {
    "collapsed": true
   },
   "outputs": [],
   "source": [
    "import tensorflow as tf"
   ]
  },
  {
   "cell_type": "markdown",
   "metadata": {},
   "source": [
    "# fetch"
   ]
  },
  {
   "cell_type": "code",
   "execution_count": 4,
   "metadata": {
    "collapsed": false
   },
   "outputs": [
    {
     "name": "stdout",
     "output_type": "stream",
     "text": [
      "[7.0, 21.0]\n"
     ]
    }
   ],
   "source": [
    "#创建三个常量op\n",
    "c1 = tf.constant(3.0)\n",
    "c2 = tf.constant(2.0)\n",
    "c3 = tf.constant(5.0)\n",
    "\n",
    "# op c2+c3\n",
    "add = tf.add(c2,c3)\n",
    "# op add * c1\n",
    "mul = tf.multiply(add,c1)\n",
    "\n",
    "with tf.Session() as sess:\n",
    "    # sess.run（） 参数内使用list的形式 就是fetch 可以同时运行多个op\n",
    "    result = sess.run([add,mul]) \n",
    "    print(result)\n",
    "    "
   ]
  },
  {
   "cell_type": "markdown",
   "metadata": {},
   "source": [
    "# feed"
   ]
  },
  {
   "cell_type": "code",
   "execution_count": 7,
   "metadata": {
    "collapsed": false
   },
   "outputs": [
    {
     "name": "stdout",
     "output_type": "stream",
     "text": [
      "[6.]\n"
     ]
    }
   ],
   "source": [
    "#feed 就是使用占位符\n",
    "#创建占位符\n",
    "p1 = tf.placeholder(tf.float32)\n",
    "p2 = tf.placeholder(tf.float32)\n",
    "\n",
    "#相乘\n",
    "multi = tf.multiply(p1,p2)\n",
    "\n",
    "with tf.Session() as sess:\n",
    "    #当使用占位符时，sess,run 就要对占位符进行赋值 使用字典 feed_dict = {x:[],y:[]}\n",
    "    print(sess.run(multi,feed_dict={p1:[2.0],p2:[3.0]}))"
   ]
  },
  {
   "cell_type": "code",
   "execution_count": null,
   "metadata": {
    "collapsed": true
   },
   "outputs": [],
   "source": []
  }
 ],
 "metadata": {
  "anaconda-cloud": {},
  "kernelspec": {
   "display_name": "Python [default]",
   "language": "python",
   "name": "python3"
  },
  "language_info": {
   "codemirror_mode": {
    "name": "ipython",
    "version": 3
   },
   "file_extension": ".py",
   "mimetype": "text/x-python",
   "name": "python",
   "nbconvert_exporter": "python",
   "pygments_lexer": "ipython3",
   "version": "3.5.2"
  }
 },
 "nbformat": 4,
 "nbformat_minor": 1
}
