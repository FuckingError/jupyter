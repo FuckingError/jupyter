{
 "cells": [
  {
   "cell_type": "code",
   "execution_count": 1,
   "metadata": {
    "collapsed": true
   },
   "outputs": [],
   "source": [
    "import tensorflow as tf\n",
    "import numpy as np\n"
   ]
  },
  {
   "cell_type": "code",
   "execution_count": 6,
   "metadata": {
    "collapsed": false
   },
   "outputs": [],
   "source": [
    "#随机100个数  数组形式\n",
    "x_data = np.random.rand(100)\n",
    "# 线性方程\n",
    "y_data =  x_data*0.1 + 0.2"
   ]
  },
  {
   "cell_type": "markdown",
   "metadata": {},
   "source": [
    "# 使用tensorflow 训练参数 接近y_data"
   ]
  },
  {
   "cell_type": "code",
   "execution_count": 14,
   "metadata": {
    "collapsed": false
   },
   "outputs": [
    {
     "name": "stdout",
     "output_type": "stream",
     "text": [
      "0 [0.053888377, 0.10005917]\n",
      "20 [0.103401564, 0.19815983]\n",
      "40 [0.101880945, 0.19898249]\n",
      "60 [0.10104007, 0.19943736]\n",
      "80 [0.10057511, 0.1996889]\n",
      "100 [0.10031801, 0.19982797]\n",
      "120 [0.10017584, 0.19990487]\n",
      "140 [0.10009723, 0.1999474]\n",
      "160 [0.10005377, 0.19997092]\n",
      "180 [0.10002974, 0.19998391]\n",
      "200 [0.10001644, 0.1999911]\n"
     ]
    }
   ],
   "source": [
    "#构造一个线性模型  float类型\n",
    "k = tf.Variable(0.)\n",
    "b = tf.Variable(0.)\n",
    "y = k*x_data + b\n",
    "\n",
    "#loss值  先求差的平方 再求平均值\n",
    "loss = tf.reduce_mean(tf.square(y-y_data))\n",
    "#梯度下降  \n",
    "# ！记得写学习率 返回一个优化器\n",
    "optimizer = tf.train.GradientDescentOptimizer(0.2)\n",
    "#优化loss\n",
    "train = optimizer.minimize(loss)\n",
    "\n",
    "#初始化变量\n",
    "init = tf.global_variables_initializer()\n",
    "\n",
    "with tf.Session() as sess:\n",
    "    sess.run(init)\n",
    "    for step in range(201):\n",
    "        sess.run(train)\n",
    "        if step%20 ==0:\n",
    "            print(step,sess.run([k,b]))\n",
    "    "
   ]
  },
  {
   "cell_type": "code",
   "execution_count": null,
   "metadata": {
    "collapsed": true
   },
   "outputs": [],
   "source": []
  }
 ],
 "metadata": {
  "anaconda-cloud": {},
  "kernelspec": {
   "display_name": "Python [default]",
   "language": "python",
   "name": "python3"
  },
  "language_info": {
   "codemirror_mode": {
    "name": "ipython",
    "version": 3
   },
   "file_extension": ".py",
   "mimetype": "text/x-python",
   "name": "python",
   "nbconvert_exporter": "python",
   "pygments_lexer": "ipython3",
   "version": "3.5.2"
  }
 },
 "nbformat": 4,
 "nbformat_minor": 1
}
