{
 "cells": [
  {
   "cell_type": "code",
   "execution_count": 3,
   "metadata": {
    "collapsed": false
   },
   "outputs": [],
   "source": [
    "import tensorflow as tf\n",
    "from tensorflow.examples.tutorials.mnist import input_data"
   ]
  },
  {
   "cell_type": "code",
   "execution_count": 4,
   "metadata": {
    "collapsed": false
   },
   "outputs": [
    {
     "name": "stdout",
     "output_type": "stream",
     "text": [
      "Extracting MNIST_data\\train-images-idx3-ubyte.gz\n",
      "Extracting MNIST_data\\train-labels-idx1-ubyte.gz\n",
      "Extracting MNIST_data\\t10k-images-idx3-ubyte.gz\n",
      "Extracting MNIST_data\\t10k-labels-idx1-ubyte.gz\n",
      "0 0.892\n",
      "1 0.903\n",
      "2 0.9081\n",
      "3 0.9107\n",
      "4 0.9128\n",
      "5 0.9154\n",
      "6 0.9168\n",
      "7 0.9197\n",
      "8 0.9189\n",
      "9 0.9201\n",
      "10 0.9204\n",
      "11 0.92\n",
      "12 0.9215\n",
      "13 0.9211\n",
      "14 0.9219\n",
      "15 0.9221\n",
      "16 0.9226\n",
      "17 0.9238\n",
      "18 0.9235\n",
      "19 0.9241\n",
      "20 0.9238\n"
     ]
    }
   ],
   "source": [
    "#1.下载mnist数据集\n",
    "mnist = input_data.read_data_sets('MNIST_data',one_hot=True) #让label转换成one-hot格式\n",
    "\n",
    "#2对数据进行操作\n",
    "#2.1分成多个batch\n",
    "batch_size = 100\n",
    "n_batch = mnist.train.num_examples // batch_size  #//整除\n",
    "#2.2为data 和 label 创建plcaeholder   #！None 具体多少数量之后指定\n",
    "data = tf.placeholder(tf.float32,[None,784])\n",
    "label = tf.placeholder(tf.float32,[None,10])\n",
    "\n",
    "#3.创建神经网络\n",
    "#3.1权重参数 和 偏置项\n",
    "W = tf.Variable(tf.zeros([784,10]))\n",
    "b = tf.Variable(tf.zeros([10]))\n",
    "#3.2softmax 为分类求出概率\n",
    "prediction = tf.nn.softmax(tf.add(tf.matmul(data,W),b))\n",
    "\n",
    "#3.3使用二次代价函数计算loss值\n",
    "# loss = tf.reduce_mean(tf.square(prediction-label))\n",
    "#使用交叉熵 计算loss\n",
    "loss = tf.reduce_mean(tf.nn.softmax_cross_entropy_with_logits(labels=label,logits=prediction))\n",
    "#3.4使用梯度下降法\n",
    "train_step = tf.train.GradientDescentOptimizer(0.3).minimize(loss)\n",
    "\n",
    "#4.求出准确率\n",
    "#4.1 得出一个判断正确与否的 布尔类型list\n",
    "#! arg_max（） 返回一维张量中最大的索引值 1表示按行比较   这里 前一个就是取出one-hot的那个1所在的位置 后一个就是取出概率值最大的位置\n",
    "correct_prediction = tf.equal(tf.arg_max(label,1),tf.arg_max(prediction,1))\n",
    "#4.2 计算正确率   将布尔型列表转换成 0 1 求出平均值就是正确率\n",
    "accuracy = (tf.reduce_mean(tf.cast(correct_prediction,tf.float32)))\n",
    "\n",
    "#5. session\n",
    "with tf.Session() as sess:\n",
    "    sess.run(tf.global_variables_initializer())\n",
    "    for epoch in range(21):\n",
    "        for batch in range(n_batch):\n",
    "            #每次向下取出一个batch的数据\n",
    "            train_data,train_label = mnist.train.next_batch(batch_size) #？为什么这里mnist 有 train方法...\n",
    "            sess.run(train_step,feed_dict={data:train_data,label:train_label})\n",
    "            #传入测试集的数据和标签\n",
    "        print(epoch,sess.run(accuracy,feed_dict={data:mnist.test.images,label:mnist.test.labels}))\n",
    "        "
   ]
  },
  {
   "cell_type": "code",
   "execution_count": 15,
   "metadata": {
    "collapsed": false
   },
   "outputs": [
    {
     "ename": "SyntaxError",
     "evalue": "invalid syntax (<ipython-input-15-9a9267cf2753>, line 2)",
     "output_type": "error",
     "traceback": [
      "\u001b[0;36m  File \u001b[0;32m\"<ipython-input-15-9a9267cf2753>\"\u001b[0;36m, line \u001b[0;32m2\u001b[0m\n\u001b[0;31m    0 0.8599\u001b[0m\n\u001b[0m           ^\u001b[0m\n\u001b[0;31mSyntaxError\u001b[0m\u001b[0;31m:\u001b[0m invalid syntax\n"
     ]
    }
   ],
   "source": [
    "二次代价函数\n",
    "0 0.8599\n",
    "1 0.8822\n",
    "2 0.8916\n",
    "3 0.8968\n",
    "4 0.9008\n",
    "5 0.9036\n",
    "6 0.906\n",
    "7 0.9072\n",
    "8 0.9082\n",
    "9 0.9095\n",
    "10 0.9117\n",
    "11 0.9123\n",
    "12 0.913\n",
    "13 0.9134\n",
    "14 0.9147\n",
    "15 0.9151\n",
    "16 0.9165\n",
    "17 0.9169\n",
    "18 0.9167\n",
    "19 0.9179\n",
    "20 0.9186"
   ]
  },
  {
   "cell_type": "code",
   "execution_count": null,
   "metadata": {
    "collapsed": true
   },
   "outputs": [],
   "source": []
  }
 ],
 "metadata": {
  "anaconda-cloud": {},
  "kernelspec": {
   "display_name": "Python [default]",
   "language": "python",
   "name": "python3"
  },
  "language_info": {
   "codemirror_mode": {
    "name": "ipython",
    "version": 3
   },
   "file_extension": ".py",
   "mimetype": "text/x-python",
   "name": "python",
   "nbconvert_exporter": "python",
   "pygments_lexer": "ipython3",
   "version": "3.5.2"
  }
 },
 "nbformat": 4,
 "nbformat_minor": 1
}
