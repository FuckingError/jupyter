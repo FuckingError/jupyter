{
 "cells": [
  {
   "cell_type": "code",
   "execution_count": 1,
   "metadata": {
    "collapsed": true
   },
   "outputs": [],
   "source": [
    "import tensorflow as tf"
   ]
  },
  {
   "cell_type": "markdown",
   "metadata": {},
   "source": [
    "### 矩阵其他的定义方式\n",
    "1. tf.zeros 全零矩阵\n",
    "2. tf.ones \n",
    "3. tf.fill 填充矩阵\n",
    "\n",
    "4. tf.zeros_like() 复制相同维度的全零矩阵\n",
    "5. tf.linspace() 将某区间的数 等分\n",
    "6. tf.random_uniform(） 随机数 生成矩阵\n",
    "\n",
    "**注意： 方法参数内 关于 设置矩阵大小 都要加中括号**\n",
    "\n"
   ]
  },
  {
   "cell_type": "code",
   "execution_count": 27,
   "metadata": {
    "collapsed": true
   },
   "outputs": [],
   "source": [
    "mat0 = tf.constant([[0,0,0],[0,0,0]])\n",
    "mat1 = tf.zeros([2,3])\n",
    "mat2 = tf.ones([3,2])\n",
    "mat3 = tf.fill([2,3],15)\n",
    "mat4 = tf.zeros_like(mat0)\n",
    "mat5 = tf.linspace(0.0,10.0,11) #0到10 一共11份\n",
    "mat6 = tf.random_uniform([2,3],-1,2) # -1到2之间"
   ]
  },
  {
   "cell_type": "code",
   "execution_count": 30,
   "metadata": {
    "collapsed": false
   },
   "outputs": [
    {
     "name": "stdout",
     "output_type": "stream",
     "text": [
      "mat0: [[0 0 0]\n",
      " [0 0 0]]\n",
      "mat1: [[0. 0. 0.]\n",
      " [0. 0. 0.]]\n",
      "mat2: [[1. 1.]\n",
      " [1. 1.]\n",
      " [1. 1.]]\n",
      "mat3: [[15 15 15]\n",
      " [15 15 15]]\n",
      "mat4: [[0 0 0]\n",
      " [0 0 0]]\n",
      "mat5: [ 0.  1.  2.  3.  4.  5.  6.  7.  8.  9. 10.]\n",
      "mat6: [[-0.11834788  0.15079677  1.6199946 ]\n",
      " [ 1.7006764   1.6249478   0.40890896]]\n"
     ]
    }
   ],
   "source": [
    "with tf.Session() as sess:\n",
    "    print('mat0:',sess.run(mat0))\n",
    "    print('mat1:',sess.run(mat1))\n",
    "    print('mat2:',sess.run(mat2))\n",
    "    print('mat3:',sess.run(mat3))\n",
    "    print('mat4:',sess.run(mat4))\n",
    "    print('mat5:',sess.run(mat5))\n",
    "    print('mat6:',sess.run(mat6))"
   ]
  },
  {
   "cell_type": "code",
   "execution_count": null,
   "metadata": {
    "collapsed": true
   },
   "outputs": [],
   "source": []
  },
  {
   "cell_type": "code",
   "execution_count": null,
   "metadata": {
    "collapsed": true
   },
   "outputs": [],
   "source": []
  }
 ],
 "metadata": {
  "anaconda-cloud": {},
  "kernelspec": {
   "display_name": "Python [default]",
   "language": "python",
   "name": "python3"
  },
  "language_info": {
   "codemirror_mode": {
    "name": "ipython",
    "version": 3
   },
   "file_extension": ".py",
   "mimetype": "text/x-python",
   "name": "python",
   "nbconvert_exporter": "python",
   "pygments_lexer": "ipython3",
   "version": "3.5.2"
  }
 },
 "nbformat": 4,
 "nbformat_minor": 1
}
