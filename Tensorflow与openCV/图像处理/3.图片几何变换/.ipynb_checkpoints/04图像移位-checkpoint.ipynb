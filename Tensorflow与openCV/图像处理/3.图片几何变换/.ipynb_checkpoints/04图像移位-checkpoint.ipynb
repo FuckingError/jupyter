{
 "cells": [
  {
   "cell_type": "code",
   "execution_count": 5,
   "metadata": {
    "collapsed": true
   },
   "outputs": [],
   "source": [
    "import cv2\n",
    "import numpy as np\n",
    "img = cv2.imread('../xyt.jpg',1)\n",
    "imgInfo = img.shape\n",
    "height = imgInfo[0]\n",
    "width = imgInfo[1]"
   ]
  },
  {
   "cell_type": "code",
   "execution_count": null,
   "metadata": {
    "collapsed": false
   },
   "outputs": [],
   "source": [
    "#移位矩阵\n",
    "matShift = np.float32([[1,0,100],[0,1,200]])# 2*3\n",
    "dst = cv2.warpAffine(img,matShift,(height,width)) #1 data 2.mat 3.info   warpAffine 矩阵运算方法\n",
    "cv2.imshow('dst',dst)\n",
    "cv2.waitKey(0)"
   ]
  },
  {
   "cell_type": "code",
   "execution_count": null,
   "metadata": {
    "collapsed": true
   },
   "outputs": [],
   "source": [
    "'''\n",
    "原理：\n",
    "[[1,0,100],[0,1,200]] 2*3\n",
    "    拆分: [[1,0],[0,1]] 2*2 A\n",
    "          [[100],[200]] 2*1 B\n",
    "          \n",
    "          C x y  2*1\n",
    "          \n",
    "          A*C+B = 2*1+2*1 =  [[1*x+0*y],[0*x+1*y]] +[[100],[200]] = [[x+100],[y+200]]\n",
    "'''"
   ]
  },
  {
   "cell_type": "code",
   "execution_count": null,
   "metadata": {
    "collapsed": true
   },
   "outputs": [],
   "source": []
  },
  {
   "cell_type": "code",
   "execution_count": null,
   "metadata": {
    "collapsed": true
   },
   "outputs": [],
   "source": []
  }
 ],
 "metadata": {
  "kernelspec": {
   "display_name": "Python [default]",
   "language": "python",
   "name": "python3"
  },
  "language_info": {
   "codemirror_mode": {
    "name": "ipython",
    "version": 3
   },
   "file_extension": ".py",
   "mimetype": "text/x-python",
   "name": "python",
   "nbconvert_exporter": "python",
   "pygments_lexer": "ipython3",
   "version": "3.5.2"
  }
 },
 "nbformat": 4,
 "nbformat_minor": 1
}
