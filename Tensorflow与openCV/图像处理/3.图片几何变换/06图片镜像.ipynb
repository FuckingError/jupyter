{
 "cells": [
  {
   "cell_type": "markdown",
   "metadata": {},
   "source": [
    "#### 实现步骤\n",
    "    1.创建一个足够大的画板\n",
    "    2.将一幅图像 从前到后 从后到前绘制\n",
    "    3.绘制中心分割线"
   ]
  },
  {
   "cell_type": "code",
   "execution_count": 23,
   "metadata": {
    "collapsed": true
   },
   "outputs": [],
   "source": [
    "import cv2\n",
    "import numpy as np"
   ]
  },
  {
   "cell_type": "code",
   "execution_count": 24,
   "metadata": {
    "collapsed": false
   },
   "outputs": [],
   "source": [
    "img = cv2.imread('t.png',1)\n",
    "imgInfo = img.shape\n",
    "height = imgInfo[0]\n",
    "width = imgInfo[1]"
   ]
  },
  {
   "cell_type": "code",
   "execution_count": 25,
   "metadata": {
    "collapsed": false
   },
   "outputs": [],
   "source": [
    "dst = np.zeros([height*2,width,3],np.uint8)"
   ]
  },
  {
   "cell_type": "code",
   "execution_count": 26,
   "metadata": {
    "collapsed": false
   },
   "outputs": [
    {
     "data": {
      "text/plain": [
       "True"
      ]
     },
     "execution_count": 26,
     "metadata": {},
     "output_type": "execute_result"
    }
   ],
   "source": [
    "for i in range(0,height):\n",
    "    for j in range(0,width):\n",
    "        dst[i,j] = img[i,j]\n",
    "        dst[2*height-i-1,j] = img[i,j]\n",
    "cv2.imwrite('t1.png',dst)"
   ]
  },
  {
   "cell_type": "code",
   "execution_count": 27,
   "metadata": {
    "collapsed": false
   },
   "outputs": [
    {
     "data": {
      "text/plain": [
       "True"
      ]
     },
     "execution_count": 27,
     "metadata": {},
     "output_type": "execute_result"
    }
   ],
   "source": [
    "dst = np.zeros([height,width*2,3],np.uint8)\n",
    "for i in range(0,height):\n",
    "    for j in range(0,width):\n",
    "        dst[i,j] = img[i,j]\n",
    "        dst[i,width*2-j-1] = img[i,j]\n",
    "cv2.imwrite('t2.png',dst)"
   ]
  },
  {
   "cell_type": "code",
   "execution_count": 28,
   "metadata": {
    "collapsed": false
   },
   "outputs": [
    {
     "data": {
      "text/plain": [
       "True"
      ]
     },
     "execution_count": 28,
     "metadata": {},
     "output_type": "execute_result"
    }
   ],
   "source": [
    "dst = np.zeros([height,width*2,3],np.uint8)\n",
    "for i in range(0,height):\n",
    "    for j in range(0,width):\n",
    "        dst[i,j] = img[i,width-j-1]\n",
    "        dst[i,j+width-1] = img[i,j]\n",
    "cv2.imwrite('t3.png',dst)"
   ]
  },
  {
   "cell_type": "code",
   "execution_count": 29,
   "metadata": {
    "collapsed": false
   },
   "outputs": [
    {
     "data": {
      "text/plain": [
       "True"
      ]
     },
     "execution_count": 29,
     "metadata": {},
     "output_type": "execute_result"
    }
   ],
   "source": [
    "dst = np.zeros([height*2,width,3],np.uint8)\n",
    "for i in range(0,height):\n",
    "    for j in range(0,width):\n",
    "        dst[i,j] = img[height-i-1,j]\n",
    "        dst[i+height-1,j] = img[i,j]\n",
    "cv2.imwrite('t4.png',dst)"
   ]
  },
  {
   "cell_type": "code",
   "execution_count": 30,
   "metadata": {
    "collapsed": false
   },
   "outputs": [
    {
     "data": {
      "text/plain": [
       "True"
      ]
     },
     "execution_count": 30,
     "metadata": {},
     "output_type": "execute_result"
    }
   ],
   "source": [
    "dst = np.zeros([height*5,width*5,3],np.uint8)\n",
    "for i in range(0,height):\n",
    "    for j in range(0,width):\n",
    "        dst[i*5,j*5] = img[i,j]\n",
    "cv2.imwrite('t5.png',dst)"
   ]
  },
  {
   "cell_type": "code",
   "execution_count": null,
   "metadata": {
    "collapsed": true
   },
   "outputs": [],
   "source": []
  }
 ],
 "metadata": {
  "anaconda-cloud": {},
  "kernelspec": {
   "display_name": "Python [default]",
   "language": "python",
   "name": "python3"
  },
  "language_info": {
   "codemirror_mode": {
    "name": "ipython",
    "version": 3
   },
   "file_extension": ".py",
   "mimetype": "text/x-python",
   "name": "python",
   "nbconvert_exporter": "python",
   "pygments_lexer": "ipython3",
   "version": "3.5.2"
  }
 },
 "nbformat": 4,
 "nbformat_minor": 1
}
