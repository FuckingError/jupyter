{
 "cells": [
  {
   "cell_type": "markdown",
   "metadata": {
    "collapsed": true
   },
   "source": [
    "### 方法一  使用imread\n"
   ]
  },
  {
   "cell_type": "code",
   "execution_count": 1,
   "metadata": {
    "collapsed": false
   },
   "outputs": [
    {
     "name": "stdout",
     "output_type": "stream",
     "text": [
      "(4160, 3120)\n"
     ]
    },
    {
     "data": {
      "text/plain": [
       "True"
      ]
     },
     "execution_count": 1,
     "metadata": {},
     "output_type": "execute_result"
    }
   ],
   "source": [
    "import cv2\n",
    "import numpy as np\n",
    "img0 = cv2.imread('zt.jpg',0)\n",
    "print(img0.shape)\n",
    "cv2.imwrite('zt.jpg',img0)"
   ]
  },
  {
   "cell_type": "markdown",
   "metadata": {},
   "source": [
    "### 方法二 使用cvtColor\n",
    "    如果读入必须要是彩色的 只有中间处理时才使用灰度处理"
   ]
  },
  {
   "cell_type": "code",
   "execution_count": 6,
   "metadata": {
    "collapsed": false
   },
   "outputs": [
    {
     "data": {
      "text/plain": [
       "True"
      ]
     },
     "execution_count": 6,
     "metadata": {},
     "output_type": "execute_result"
    }
   ],
   "source": [
    "img = cv2.imread('../zmy.jpg',1)\n",
    "dst = cv2.cvtColor(img,cv2.COLOR_BGR2GRAY)#颜色空间转化 1.图片 2.颜色转换的方式 比如这里由BGR转GRAY\n",
    "cv2.imwrite('zmy1.jpg',dst)"
   ]
  },
  {
   "cell_type": "markdown",
   "metadata": {},
   "source": [
    "### 方法三 原理角度思考  \n",
    "    灰度图像 如果有RBG三个值 那么他们三个值相等 R = B =G"
   ]
  },
  {
   "cell_type": "code",
   "execution_count": 5,
   "metadata": {
    "collapsed": false
   },
   "outputs": [
    {
     "data": {
      "text/plain": [
       "True"
      ]
     },
     "execution_count": 5,
     "metadata": {},
     "output_type": "execute_result"
    }
   ],
   "source": [
    "img = cv2.imread('../zmy.jpg',1)\n",
    "imgInfo = img.shape\n",
    "height = imgInfo[0]\n",
    "width = imgInfo[1]\n",
    "dst = np.zeros((height,width),np.uint8)\n",
    "for i in range(0,height):\n",
    "    for j in range(0,width):\n",
    "        (b,g,r) = img[i,j]  #读取像素值  b g r形式\n",
    "        #unit 进行相加或相乘 可能会溢出 所以先转换为int\n",
    "        gray = (int(b)+int(g)+int(r))/3\n",
    "        dst[i,j] = np.uint8(gray)\n",
    "cv2.imwrite('zmy3.jpg',dst)"
   ]
  },
  {
   "cell_type": "markdown",
   "metadata": {},
   "source": [
    "### 方法四 心理学计算公式\n",
    "    gray = r*0.299 + g*0.587+b*0.114"
   ]
  },
  {
   "cell_type": "code",
   "execution_count": 2,
   "metadata": {
    "collapsed": false
   },
   "outputs": [
    {
     "data": {
      "text/plain": [
       "True"
      ]
     },
     "execution_count": 2,
     "metadata": {},
     "output_type": "execute_result"
    }
   ],
   "source": [
    "img = cv2.imread('../zmy.jpg',1)\n",
    "imgInfo = img.shape\n",
    "height = imgInfo[0]\n",
    "width = imgInfo[1]\n",
    "dst = np.zeros((height,width),np.uint8)\n",
    "for i in range(0,height):\n",
    "    for j in range(0,width):\n",
    "        #unit 进行相加或相乘 可能会溢出 所以先转换为int\n",
    "        (b,g,r) = img[i,j]\n",
    "        gray = int(b)*0.299+int(g)*0.587+int(b)*0.114\n",
    "        #gray = b*0.299+g*0.587+b*0.114\n",
    "        dst[i,j] = np.uint8(gray)\n",
    "cv2.imwrite('zmy4.jpg',dst)"
   ]
  },
  {
   "cell_type": "markdown",
   "metadata": {},
   "source": [
    "### 算法优化\n",
    "    优化原则：定点运算比浮点运算好 加减比乘除好"
   ]
  },
  {
   "cell_type": "code",
   "execution_count": 4,
   "metadata": {
    "collapsed": false
   },
   "outputs": [
    {
     "data": {
      "text/plain": [
       "True"
      ]
     },
     "execution_count": 4,
     "metadata": {},
     "output_type": "execute_result"
    }
   ],
   "source": [
    "img = cv2.imread('../zmy.jpg',1)\n",
    "imgInfo = img.shape\n",
    "height = imgInfo[0]\n",
    "width = imgInfo[1]\n",
    "dst = np.zeros((height,width),np.uint8)\n",
    "for i in range(0,height):\n",
    "    for j in range(0,width):\n",
    "        #unit 进行相加或相乘 可能会溢出 所以先转换为int\n",
    "        (b,g,r) = img[i,j]\n",
    "        #gray = int(b)*0.299+int(g)*0.587+int(b)*0.114\n",
    "        #优化\n",
    "        gray = (int(b)+(int(g)<<1)+int(b))>>2\n",
    "        \n",
    "        dst[i,j] = np.uint8(gray)\n",
    "cv2.imwrite('zmy4.jpg',dst)"
   ]
  },
  {
   "cell_type": "code",
   "execution_count": null,
   "metadata": {
    "collapsed": true
   },
   "outputs": [],
   "source": []
  }
 ],
 "metadata": {
  "anaconda-cloud": {},
  "kernelspec": {
   "display_name": "Python [default]",
   "language": "python",
   "name": "python3"
  },
  "language_info": {
   "codemirror_mode": {
    "name": "ipython",
    "version": 3
   },
   "file_extension": ".py",
   "mimetype": "text/x-python",
   "name": "python",
   "nbconvert_exporter": "python",
   "pygments_lexer": "ipython3",
   "version": "3.5.2"
  }
 },
 "nbformat": 4,
 "nbformat_minor": 1
}
