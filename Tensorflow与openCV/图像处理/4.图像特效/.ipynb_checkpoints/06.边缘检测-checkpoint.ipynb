{
 "cells": [
  {
   "cell_type": "code",
   "execution_count": 3,
   "metadata": {
    "collapsed": true
   },
   "outputs": [],
   "source": [
    "#边缘检测步骤：  1.首先要转换为灰度图片  2.高斯滤波 (去除噪声的干扰) 3.调用canny方法\n",
    "import cv2\n",
    "import numpy as np\n",
    "import random\n",
    "img = cv2.imread('zt.jpg',1)\n",
    "imgInfo = img.shape\n",
    "height = imgInfo[0]\n",
    "width = imgInfo[1]"
   ]
  },
  {
   "cell_type": "code",
   "execution_count": 4,
   "metadata": {
    "collapsed": false
   },
   "outputs": [
    {
     "data": {
      "text/plain": [
       "True"
      ]
     },
     "execution_count": 4,
     "metadata": {},
     "output_type": "execute_result"
    }
   ],
   "source": [
    "#1. 转灰度图像\n",
    "gray = cv2.cvtColor(img,cv2.COLOR_RGB2GRAY)\n",
    "#2. 高斯滤波\n",
    "imgG = cv2.GaussianBlur(gray,(3,3),0)  #第二个参数 是 模板大小\n",
    "#3. canny方法 实现边缘检测\n",
    "dst = cv2.Canny(img,50,50) # 1.图片数据 2.图片门限 这儿门限相同   图片经过边缘检测 如果门限高于该门限 则认为是边缘检测\n",
    "cv2.imwrite('zt_.jpg',dst)"
   ]
  },
  {
   "cell_type": "code",
   "execution_count": null,
   "metadata": {
    "collapsed": true
   },
   "outputs": [],
   "source": []
  }
 ],
 "metadata": {
  "anaconda-cloud": {},
  "kernelspec": {
   "display_name": "Python [default]",
   "language": "python",
   "name": "python3"
  },
  "language_info": {
   "codemirror_mode": {
    "name": "ipython",
    "version": 3
   },
   "file_extension": ".py",
   "mimetype": "text/x-python",
   "name": "python",
   "nbconvert_exporter": "python",
   "pygments_lexer": "ipython3",
   "version": "3.5.2"
  }
 },
 "nbformat": 4,
 "nbformat_minor": 1
}
