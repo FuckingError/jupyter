{
 "cells": [
  {
   "cell_type": "code",
   "execution_count": 9,
   "metadata": {
    "collapsed": false
   },
   "outputs": [
    {
     "data": {
      "text/plain": [
       "True"
      ]
     },
     "execution_count": 9,
     "metadata": {},
     "output_type": "execute_result"
    }
   ],
   "source": [
    "import cv2\n",
    "import numpy as np\n",
    "img1 = cv2.imread('zmy_xz.jpg',1)\n",
    "img2 = cv2.imread('zmy3.jpg',1)\n",
    "img1Info = img1.shape\n",
    "hight = img1Info[0]\n",
    "width = img1Info[1]\n",
    "\n",
    "#ROI 抠出 感兴趣的部分\n",
    "dst = np.zeros((hight,width,3),np.uint8)\n",
    "dst = cv2.addWeighted(img1,0.5,img2,0.5,0)  # 两个矩阵 乘权重 然后相加\n",
    "\n",
    "cv2.imwrite('zmy_rh.jpg',dst)"
   ]
  },
  {
   "cell_type": "code",
   "execution_count": null,
   "metadata": {
    "collapsed": true
   },
   "outputs": [],
   "source": []
  }
 ],
 "metadata": {
  "anaconda-cloud": {},
  "kernelspec": {
   "display_name": "Python [default]",
   "language": "python",
   "name": "python3"
  },
  "language_info": {
   "codemirror_mode": {
    "name": "ipython",
    "version": 3
   },
   "file_extension": ".py",
   "mimetype": "text/x-python",
   "name": "python",
   "nbconvert_exporter": "python",
   "pygments_lexer": "ipython3",
   "version": "3.5.2"
  }
 },
 "nbformat": 4,
 "nbformat_minor": 1
}
