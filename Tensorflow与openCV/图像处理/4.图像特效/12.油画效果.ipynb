{
 "cells": [
  {
   "cell_type": "markdown",
   "metadata": {},
   "source": [
    "    1.灰度处理  \n",
    "    2.分割为若干个小方块 统计每个小方块的灰度值 \n",
    "    3.将 0到255的灰度值 划分几个等级 并把第二步处理的结果映射到这个范围内  比如：分为4个等级 0到63 ....\n",
    "    4.找到每个方块中 得出像素灰度值最多的等级段 和 个数  并且求解这些像素的均值 （灰度段中像素的统计） 5.将统计出来的平均值来代替原来的像素值"
   ]
  },
  {
   "cell_type": "code",
   "execution_count": 29,
   "metadata": {
    "collapsed": true
   },
   "outputs": [],
   "source": [
    "import cv2\n",
    "import numpy as np\n",
    "import random\n",
    "import math\n",
    "img = cv2.imread('zt.jpg',1)\n",
    "imgInfo = img.shape\n",
    "height = imgInfo[0]\n",
    "width = imgInfo[1]\n",
    "gray = cv2.cvtColor(img,cv2.COLOR_RGB2GRAY)\n",
    "dst = np.zeros((height,width,3),np.uint8)"
   ]
  },
  {
   "cell_type": "code",
   "execution_count": 30,
   "metadata": {
    "collapsed": false
   },
   "outputs": [
    {
     "data": {
      "text/plain": [
       "True"
      ]
     },
     "execution_count": 30,
     "metadata": {},
     "output_type": "execute_result"
    }
   ],
   "source": [
    "for i in range(4,height-4):\n",
    "    for j in range(4,width-4):\n",
    "        array1 = np.zeros(8,np.uint8) #用来统计每个等级段中的小方块个数\n",
    "        #1.小方块为 2*2\n",
    "        for m in range(-4,4):\n",
    "            for n in range(-4,4):\n",
    "                #2.灰度等级的统计 分8个段 每段32\n",
    "                p1 = int(gray[i+m,j+n]/32) #得出在哪个等级段中\n",
    "                array1[p1] = array1[p1]+1#累加\n",
    "        currentMax = array1[0]\n",
    "        l = 0\n",
    "        for k in range(0,8):\n",
    "            if currentMax<array1[k]:\n",
    "                currentMax = array1[k]\n",
    "                l = k\n",
    "        #3.简化 求均值(其实没有求...)\n",
    "        for m in range(-4,4):\n",
    "            for n in range(-4,4):\n",
    "                #如果在该等级段内就取出该像素  直到for循环结束 得到最后一个该等级段的像素值\n",
    "                if gray[i+m,j+n]>=(l*32) and gray[i+m,j+n]<=((l+1)*32):\n",
    "                    (b,g,r) = img[i+m,j+n]\n",
    "        #将该像素值赋给dst[i,j]\n",
    "        dst[i,j] = (b,g,r)\n",
    "cv2.imwrite('zt_yh.jpg',dst)\n",
    "        \n",
    "        \n",
    "                \n",
    "                "
   ]
  },
  {
   "cell_type": "code",
   "execution_count": null,
   "metadata": {
    "collapsed": true
   },
   "outputs": [],
   "source": []
  }
 ],
 "metadata": {
  "anaconda-cloud": {},
  "kernelspec": {
   "display_name": "Python [default]",
   "language": "python",
   "name": "python3"
  },
  "language_info": {
   "codemirror_mode": {
    "name": "ipython",
    "version": 3
   },
   "file_extension": ".py",
   "mimetype": "text/x-python",
   "name": "python",
   "nbconvert_exporter": "python",
   "pygments_lexer": "ipython3",
   "version": "3.5.2"
  }
 },
 "nbformat": 4,
 "nbformat_minor": 1
}
