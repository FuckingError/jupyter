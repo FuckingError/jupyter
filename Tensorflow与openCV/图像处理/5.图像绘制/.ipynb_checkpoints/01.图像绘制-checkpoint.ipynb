{
 "cells": [
  {
   "cell_type": "code",
   "execution_count": 1,
   "metadata": {
    "collapsed": true
   },
   "outputs": [],
   "source": [
    "import cv2\n",
    "import numpy as np\n",
    "newImageInfo = (500,500,3)\n",
    "dst = np.zeros(newImageInfo,np.uint8)"
   ]
  },
  {
   "cell_type": "code",
   "execution_count": null,
   "metadata": {
    "collapsed": true
   },
   "outputs": [],
   "source": [
    "#绘制线段\n",
    "cv2.line(dst,(100,100),(400,400),(0,0,255))\n",
    "cv2.line(dst,(100,200),(400,200),(0,255,255),20) #最后一个参数是线条宽度\n",
    "cv2.line(dst,(100,300),(400,300),(0,255,0),20,cv2.LINE_AA) # 线段端点处 要比上一条黄色线段要光滑很多\n",
    "#绘制三角形\n",
    "cv2.line(dst,(200,150),(50,250),(25,100,255))\n",
    "cv2.line(dst,(50,250),(400,380),(25,100,255))\n",
    "cv2.line(dst,(400,380),(200,150),(25,100,255))\n",
    "\n",
    "cv2.imshow('dst',dst)\n",
    "cv2.waitKey(0)"
   ]
  },
  {
   "cell_type": "code",
   "execution_count": null,
   "metadata": {
    "collapsed": true
   },
   "outputs": [],
   "source": []
  }
 ],
 "metadata": {
  "anaconda-cloud": {},
  "kernelspec": {
   "display_name": "Python [default]",
   "language": "python",
   "name": "python3"
  },
  "language_info": {
   "codemirror_mode": {
    "name": "ipython",
    "version": 3
   },
   "file_extension": ".py",
   "mimetype": "text/x-python",
   "name": "python",
   "nbconvert_exporter": "python",
   "pygments_lexer": "ipython3",
   "version": "3.5.2"
  }
 },
 "nbformat": 4,
 "nbformat_minor": 1
}
