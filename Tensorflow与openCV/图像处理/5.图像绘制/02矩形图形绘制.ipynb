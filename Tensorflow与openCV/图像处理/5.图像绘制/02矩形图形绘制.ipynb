{
 "cells": [
  {
   "cell_type": "code",
   "execution_count": 1,
   "metadata": {
    "collapsed": true
   },
   "outputs": [],
   "source": [
    "import cv2\n",
    "import numpy as np"
   ]
  },
  {
   "cell_type": "code",
   "execution_count": null,
   "metadata": {
    "collapsed": false
   },
   "outputs": [
    {
     "name": "stdout",
     "output_type": "stream",
     "text": [
      "(5, 2)\n"
     ]
    }
   ],
   "source": [
    "newImageInfo = (500,500,3)\n",
    "dst = np.zeros(newImageInfo,np.uint8)\n",
    "#绘制矩形\n",
    "cv2.rectangle(dst,(50,100),(200,300),(255,0,0),10)  #第五个参数 fill = -1   如果是大于0的值，则是线条宽度\n",
    "#绘制圆\n",
    "cv2.circle(dst,(250,250),50,(0,255,0),2)\n",
    "#椭圆\n",
    "cv2.ellipse(dst,(256,256),(150,100),0,0,180,(255,255,0),-1) #第三个参数是 轴 4.偏转角度 5.圆弧起始角度 6.end角度 7.颜色 8.内容是否填充\n",
    "#任意多边形\n",
    "points = np.array([[150,50],[140,140],[200,170],[250,250],[150,50]],np.int32)\n",
    "print(points.shape)\n",
    "points = points.reshape((-1,1,2))\n",
    "print(points.shape)\n",
    "cv2.polylines(dst,[points],True,(0,255,255))\n",
    "cv2.imshow('dst',dst)\n",
    "cv2.waitKey(0)"
   ]
  }
 ],
 "metadata": {
  "anaconda-cloud": {},
  "kernelspec": {
   "display_name": "Python [default]",
   "language": "python",
   "name": "python3"
  },
  "language_info": {
   "codemirror_mode": {
    "name": "ipython",
    "version": 3
   },
   "file_extension": ".py",
   "mimetype": "text/x-python",
   "name": "python",
   "nbconvert_exporter": "python",
   "pygments_lexer": "ipython3",
   "version": "3.5.2"
  }
 },
 "nbformat": 4,
 "nbformat_minor": 1
}
