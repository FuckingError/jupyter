{
 "cells": [
  {
   "cell_type": "code",
   "execution_count": null,
   "metadata": {
    "collapsed": true
   },
   "outputs": [],
   "source": [
    "#做一个映射表  累计概率*255\n",
    "import cv2\n",
    "import numpy as np\n",
    "import matplotlib.pyplot as plt \n",
    "img = cv2.imread('zj.jpg',1)\n",
    "imgInfo = img.shape\n",
    "height = imgInfo[0]\n",
    "width = imgInfo[1]\n",
    "gray = cv2.cvtColor(img,cv2.COLOR_BGR2GRAY)\n",
    "cv2.imshow('src',gray)\n",
    "count = np.zeros(256,np.float)\n",
    "for i in range(0,height):\n",
    "    for j in range(0,width):\n",
    "        pixel = gray[i,j]\n",
    "        index = int(pixel)\n",
    "        count[index] = count[index]+1 #计数\n",
    "#求每一个灰度等级的概率  \n",
    "for i in range(0,256):\n",
    "    count[i] = count[i]/(height*width)\n",
    "sum1 = float(0)\n",
    "#求累计概率\n",
    "for i in range(0,256):\n",
    "    sum1 = sum1 + count[i]\n",
    "    count[i] = sum1\n",
    "#计算映射表\n",
    "#map1 = np.zeros(256,np.uint16)  还是使用count\n",
    "for i in range(0,256):\n",
    "    count[i] = np.uint16(count[i]*255)\n",
    "#映射\n",
    "for i in range(0,height):\n",
    "    for j in range(0,width):\n",
    "        pixel = gray[i,j]\n",
    "        index = int(pixel)\n",
    "        gray[i,j] = count[index]\n",
    "cv2.imshow('dst',gray)\n",
    "cv2.waitKey(0)\n",
    "        "
   ]
  },
  {
   "cell_type": "code",
   "execution_count": null,
   "metadata": {
    "collapsed": true
   },
   "outputs": [],
   "source": []
  }
 ],
 "metadata": {
  "kernelspec": {
   "display_name": "Python [default]",
   "language": "python",
   "name": "python3"
  },
  "language_info": {
   "codemirror_mode": {
    "name": "ipython",
    "version": 3
   },
   "file_extension": ".py",
   "mimetype": "text/x-python",
   "name": "python",
   "nbconvert_exporter": "python",
   "pygments_lexer": "ipython3",
   "version": "3.5.2"
  }
 },
 "nbformat": 4,
 "nbformat_minor": 1
}
