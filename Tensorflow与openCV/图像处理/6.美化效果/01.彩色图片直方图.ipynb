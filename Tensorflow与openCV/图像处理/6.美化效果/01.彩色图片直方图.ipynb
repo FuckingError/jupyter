{
 "cells": [
  {
   "cell_type": "code",
   "execution_count": null,
   "metadata": {
    "collapsed": true
   },
   "outputs": [],
   "source": [
    "import cv2\n",
    "import numpy as np"
   ]
  },
  {
   "cell_type": "code",
   "execution_count": null,
   "metadata": {
    "collapsed": false
   },
   "outputs": [],
   "source": [
    "#统计彩色直方图的方法\n",
    "def ImageHist(image,type):\n",
    "    color = (255,255,255)\n",
    "    windowName = 'Gary'\n",
    "    if type == 31:#如果判断类型31 则为蓝色\n",
    "        color = (255,0,0)\n",
    "        windowName = 'B Hist'\n",
    "    elif type == 32:\n",
    "        color = (0,255,0)\n",
    "        windowName = 'G Hist'\n",
    "    elif type == 33:\n",
    "        color = (0,0,255)\n",
    "        windowName = 'R Hist'\n",
    "    #调用直方图的统计方法   1.图片数据 2.直方图通道 3.模板 这里用不到 4.直方图的size 直方图分成多少分 有多少个柱状 这里就理解成0到255 256个 5.直方图中各个像素的值 0到255全部遍历一次\n",
    "    hist = cv2.calcHist([image],[0],None,[256],[0.0,255.0]) #参数都要使用中括号\n",
    "    minV,maxV,minL,maxL = cv2.minMaxLoc(hist) #调用方法 获取最大值 最小值 和其坐标\n",
    "    \n",
    "    histImg = np.zeros((256,256,3),np.uint8)\n",
    "    for h in range(256):\n",
    "        #归一化\n",
    "        intenNormal = int(hist[h]*256/maxV) #这样值就会归一到0到256之间\n",
    "        cv2.line(histImg,(h,256),(h,256-intenNormal),color)\n",
    "    cv2.imshow(windowName,histImg)\n",
    "    return histImg\n",
    "img = cv2.imread('zj.jpg',1)\n",
    "channels = cv2.split(img) #获取通道 使用split方法 完成图片的分解  R  G  B三种颜色通道\n",
    "for i in range(0,3):\n",
    "    ImageHist(channels[i],31+i)\n",
    "cv2.waitKey(0)\n",
    "        \n",
    "    "
   ]
  },
  {
   "cell_type": "code",
   "execution_count": null,
   "metadata": {
    "collapsed": true
   },
   "outputs": [],
   "source": []
  }
 ],
 "metadata": {
  "anaconda-cloud": {},
  "kernelspec": {
   "display_name": "Python [default]",
   "language": "python",
   "name": "python3"
  },
  "language_info": {
   "codemirror_mode": {
    "name": "ipython",
    "version": 3
   },
   "file_extension": ".py",
   "mimetype": "text/x-python",
   "name": "python",
   "nbconvert_exporter": "python",
   "pygments_lexer": "ipython3",
   "version": "3.5.2"
  }
 },
 "nbformat": 4,
 "nbformat_minor": 1
}
