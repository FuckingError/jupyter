{
 "cells": [
  {
   "cell_type": "code",
   "execution_count": 1,
   "metadata": {
    "collapsed": true
   },
   "outputs": [],
   "source": [
    "import cv2\n",
    "import numpy as np"
   ]
  },
  {
   "cell_type": "code",
   "execution_count": null,
   "metadata": {
    "collapsed": true
   },
   "outputs": [],
   "source": [
    "#先自己损坏一张图片\n",
    "img = cv2.imread('zj.jpg',1)\n",
    "for i in range(100,200):\n",
    "    #这条线 占三个像素\n",
    "    img[i,100] = (255,255,255)\n",
    "    img[i,100+1] = (255,255,255)\n",
    "    img[i,100-1] = (255,255,255)\n",
    "for i in range(50,150):\n",
    "    img[150,i] = (255,255,255)\n",
    "    img[150+1,i] = (255,255,255)\n",
    "    img[150-1,i] = (255,255,255)\n",
    "cv2.imwrite('damaged.jpg',img)\n",
    "cv2.imshow('img',img)\n",
    "cv2.waitKey(0)"
   ]
  },
  {
   "cell_type": "code",
   "execution_count": null,
   "metadata": {
    "collapsed": false
   },
   "outputs": [],
   "source": [
    "#图片修补\n",
    "img = cv2.imread('damaged.jpg',1)\n",
    "cv2.imshow('src',img)\n",
    "imgInfo = img.shape\n",
    "height = imgInfo[0]\n",
    "width = imgInfo[1]\n",
    "paint = np.zeros((height,width,1),np.uint8)\n",
    "for i in range(100,200):\n",
    "    #这条线 占三个像素\n",
    "    paint[i,100] = 255\n",
    "    paint[i,100+1] = 255\n",
    "    paint[i,100-1] = 255\n",
    "for i in range(50,150):\n",
    "    paint[150,i] = 255\n",
    "    paint[150+1,i] = 255\n",
    "    paint[150-1,i] = 255\n",
    "cv2.imshow('paint',paint)\n",
    "#总结：1.坏图 2.使用数组 描绘出损坏的部分\n",
    "imgDst = cv2.inpaint(img,paint,3,cv2.INPAINT_TELEA)\n",
    "cv2.imshow('image',imgDst)\n",
    "cv2.waitKey(0)"
   ]
  },
  {
   "cell_type": "code",
   "execution_count": null,
   "metadata": {
    "collapsed": true
   },
   "outputs": [],
   "source": []
  }
 ],
 "metadata": {
  "kernelspec": {
   "display_name": "Python [default]",
   "language": "python",
   "name": "python3"
  },
  "language_info": {
   "codemirror_mode": {
    "name": "ipython",
    "version": 3
   },
   "file_extension": ".py",
   "mimetype": "text/x-python",
   "name": "python",
   "nbconvert_exporter": "python",
   "pygments_lexer": "ipython3",
   "version": "3.5.2"
  }
 },
 "nbformat": 4,
 "nbformat_minor": 1
}
