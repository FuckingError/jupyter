{
 "cells": [
  {
   "cell_type": "code",
   "execution_count": null,
   "metadata": {
    "collapsed": false
   },
   "outputs": [],
   "source": [
    "#中值滤波 3*3 \n",
    "#效果不好啊\n",
    "import cv2\n",
    "import numpy as np\n",
    "img = cv2.imread('jyzs.jpg')\n",
    "cv2.imshow('src',img)\n",
    "imgInfo = img.shape\n",
    "height = imgInfo[0]\n",
    "width = imgInfo[1]\n",
    "img = cv2.cvtColor(img,cv2.COLOR_RGB2GRAY)\n",
    "cv2.imshow('src',img)\n",
    "dst = np.zeros((height,width,1),np.uint8)\n",
    "collect = np.zeros(9,np.uint8)\n",
    "for i in range(1,height-1):\n",
    "    for j in range(1,width-1):\n",
    "        k = 0\n",
    "        for m in range(-1,2):\n",
    "            for n in range(-1,2):\n",
    "                gray = img[i+m,j+n]\n",
    "                collect[k] = gray\n",
    "                k = k+1\n",
    "        for k in range(0,9):\n",
    "            p1 = collect[k]\n",
    "            for t in range(k+1,9):\n",
    "                if p1<collect[t]:\n",
    "                    mid = collect[t]\n",
    "                    collect[t] = p1\n",
    "                    p1 = mid\n",
    "        dst[i,j] = collect[4]\n",
    "cv2.imshow('dst',dst)            \n",
    "cv2.waitKey(0)"
   ]
  },
  {
   "cell_type": "code",
   "execution_count": null,
   "metadata": {
    "collapsed": true
   },
   "outputs": [],
   "source": []
  }
 ],
 "metadata": {
  "kernelspec": {
   "display_name": "Python [default]",
   "language": "python",
   "name": "python3"
  },
  "language_info": {
   "codemirror_mode": {
    "name": "ipython",
    "version": 3
   },
   "file_extension": ".py",
   "mimetype": "text/x-python",
   "name": "python",
   "nbconvert_exporter": "python",
   "pygments_lexer": "ipython3",
   "version": "3.5.2"
  }
 },
 "nbformat": 4,
 "nbformat_minor": 1
}
