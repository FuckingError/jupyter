{
 "cells": [
  {
   "cell_type": "code",
   "execution_count": 1,
   "metadata": {
    "collapsed": true
   },
   "outputs": [],
   "source": [
    "#实现步骤： 1.load 2.info 3.解码 parse 4.imshow imwrite"
   ]
  },
  {
   "cell_type": "code",
   "execution_count": 3,
   "metadata": {
    "collapsed": false
   },
   "outputs": [
    {
     "ename": "SyntaxError",
     "evalue": "invalid syntax (<ipython-input-3-b3bb541ae88c>, line 19)",
     "output_type": "error",
     "traceback": [
      "\u001b[0;36m  File \u001b[0;32m\"<ipython-input-3-b3bb541ae88c>\"\u001b[0;36m, line \u001b[0;32m19\u001b[0m\n\u001b[0;31m    fileName = '/test/'image+str(i)+'.jpg'\u001b[0m\n\u001b[0m                           ^\u001b[0m\n\u001b[0;31mSyntaxError\u001b[0m\u001b[0;31m:\u001b[0m invalid syntax\n"
     ]
    }
   ],
   "source": [
    "import cv2\n",
    "import os\n",
    "\n",
    "cap = cv2.VideoCapture('test.mp4')#获取视频打开cap\n",
    "isOpened = cap.isOpened#判断是否可以打开\n",
    "fps = cap.get(cv2.CAP_PROP_FPS)#帧率\n",
    "width = int(cap.get(cv2.CAP_PROP_FRAME_WIDTH))\n",
    "height = int(cap.get(cv2.CAP_PROP_FRAME_HEIGHT))\n",
    "print(fps,width,height)\n",
    "i = 0\n",
    "while(isOpened):\n",
    "    if i == 10000:\n",
    "        break\n",
    "    else:\n",
    "        i = i+1\n",
    "    (flag,frame)= cap.read()#读取每一张 flag表明是否读取成功 frame表示内容\n",
    "    if(i%5==0):\n",
    "        #if os.path.exists('image'+str(i)+'.jpg')==False:\n",
    "        fileName = 'test/image'+str(i)+'.jpg'\n",
    "        print(fileName)\n",
    "        if flag == True:\n",
    "            cv2.imwrite(fileName,frame,[cv2.IMWRITE_JPEG_QUALITY,100])#最后一个参数 是用来 质量控制\n",
    "print('end!')"
   ]
  },
  {
   "cell_type": "code",
   "execution_count": null,
   "metadata": {
    "collapsed": true
   },
   "outputs": [],
   "source": []
  }
 ],
 "metadata": {
  "anaconda-cloud": {},
  "kernelspec": {
   "display_name": "Python [default]",
   "language": "python",
   "name": "python3"
  },
  "language_info": {
   "codemirror_mode": {
    "name": "ipython",
    "version": 3
   },
   "file_extension": ".py",
   "mimetype": "text/x-python",
   "name": "python",
   "nbconvert_exporter": "python",
   "pygments_lexer": "ipython3",
   "version": "3.5.2"
  }
 },
 "nbformat": 4,
 "nbformat_minor": 1
}
