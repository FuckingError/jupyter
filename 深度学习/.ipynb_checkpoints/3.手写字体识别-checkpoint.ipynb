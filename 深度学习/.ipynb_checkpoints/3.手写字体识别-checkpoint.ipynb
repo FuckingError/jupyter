{
 "cells": [
  {
   "cell_type": "code",
   "execution_count": 1,
   "metadata": {
    "collapsed": false
   },
   "outputs": [
    {
     "name": "stdout",
     "output_type": "stream",
     "text": [
      "packs loaded\n"
     ]
    }
   ],
   "source": [
    "import numpy as np #数字库\n",
    "import tensorflow as tf\n",
    "import matplotlib.pyplot as plt #2D绘图库\n",
    "from tensorflow.examples.tutorials.mnist import input_data\n",
    "\n",
    "print(\"packs loaded\")"
   ]
  },
  {
   "cell_type": "code",
   "execution_count": 2,
   "metadata": {
    "collapsed": false
   },
   "outputs": [
    {
     "name": "stdout",
     "output_type": "stream",
     "text": [
      "Download and Extract MNIST dataset\n",
      "WARNING:tensorflow:From <ipython-input-2-aaa873354966>:3: read_data_sets (from tensorflow.contrib.learn.python.learn.datasets.mnist) is deprecated and will be removed in a future version.\n",
      "Instructions for updating:\n",
      "Please use alternatives such as official/mnist/dataset.py from tensorflow/models.\n",
      "WARNING:tensorflow:From D:\\Anaconda3-4.2.0\\lib\\site-packages\\tensorflow\\contrib\\learn\\python\\learn\\datasets\\mnist.py:260: maybe_download (from tensorflow.contrib.learn.python.learn.datasets.base) is deprecated and will be removed in a future version.\n",
      "Instructions for updating:\n",
      "Please write your own downloading logic.\n",
      "WARNING:tensorflow:From D:\\Anaconda3-4.2.0\\lib\\site-packages\\tensorflow\\contrib\\learn\\python\\learn\\datasets\\mnist.py:262: extract_images (from tensorflow.contrib.learn.python.learn.datasets.mnist) is deprecated and will be removed in a future version.\n",
      "Instructions for updating:\n",
      "Please use tf.data to implement this functionality.\n",
      "Extracting data/train-images-idx3-ubyte.gz\n",
      "WARNING:tensorflow:From D:\\Anaconda3-4.2.0\\lib\\site-packages\\tensorflow\\contrib\\learn\\python\\learn\\datasets\\mnist.py:267: extract_labels (from tensorflow.contrib.learn.python.learn.datasets.mnist) is deprecated and will be removed in a future version.\n",
      "Instructions for updating:\n",
      "Please use tf.data to implement this functionality.\n",
      "Extracting data/train-labels-idx1-ubyte.gz\n",
      "WARNING:tensorflow:From D:\\Anaconda3-4.2.0\\lib\\site-packages\\tensorflow\\contrib\\learn\\python\\learn\\datasets\\mnist.py:110: dense_to_one_hot (from tensorflow.contrib.learn.python.learn.datasets.mnist) is deprecated and will be removed in a future version.\n",
      "Instructions for updating:\n",
      "Please use tf.one_hot on tensors.\n",
      "Extracting data/t10k-images-idx3-ubyte.gz\n",
      "Extracting data/t10k-labels-idx1-ubyte.gz\n",
      "WARNING:tensorflow:From D:\\Anaconda3-4.2.0\\lib\\site-packages\\tensorflow\\contrib\\learn\\python\\learn\\datasets\\mnist.py:290: DataSet.__init__ (from tensorflow.contrib.learn.python.learn.datasets.mnist) is deprecated and will be removed in a future version.\n",
      "Instructions for updating:\n",
      "Please use alternatives such as official/mnist/dataset.py from tensorflow/models.\n",
      "type of 'mnist' is <class 'tensorflow.contrib.learn.python.learn.datasets.base.Datasets'>\n",
      "number of train data is 55000\n",
      "number of test data is 10000\n"
     ]
    }
   ],
   "source": [
    "#下载mnist 查看数据量\n",
    "print(\"Download and Extract MNIST dataset\")\n",
    "mnist = input_data.read_data_sets('data/', one_hot=True)\n",
    "print\n",
    "print(\"type of 'mnist' is %s\" % (type(mnist)))\n",
    "print(\"number of train data is %d\" % (mnist.train.num_examples))\n",
    "print(\"number of test data is %d\" % (mnist.test.num_examples))"
   ]
  },
  {
   "cell_type": "code",
   "execution_count": 3,
   "metadata": {
    "collapsed": false
   },
   "outputs": [
    {
     "name": "stdout",
     "output_type": "stream",
     "text": [
      "NETWORK READY\n"
     ]
    }
   ],
   "source": [
    "#设置神经网络的参数\n",
    "n_hidden_1 = 256 #隐藏层的神经元个数\n",
    "n_hidden_2 = 128\n",
    "n_input    = 784 #输入的像素值 像素值是固定值  全连接网络是限定死的 后面的卷积神经网络可变\n",
    "n_classes  = 10  #分成多少类    固定值\n",
    "\n",
    "#INPUTS AND OUTPUTS  \n",
    "x = tf.placeholder(\"float\",[None,n_input]) #placeholder相当于形参 定义一个 数据类型为float none维(这里的none相当于占位符) 名称为n_input的参数\n",
    "y = tf.placeholder(\"float\",[None,n_classes])\n",
    "\n",
    "# NETWORK PARAMETERS  这里没有涉及具体的数据 只是搭建出矩阵的框子 具体的数据没有写入\n",
    "'''\n",
    "    tf.random_normal函数 用于从服从指定正太分布的数值中取出指定个数的值\n",
    "    shape: 输出张量的形状，必选\n",
    "    mean: 正态分布的均值，默认为0\n",
    "    stddev: 正态分布的标准差，默认为1.0\n",
    "    dtype: 输出的类型，默认为tf.float32\n",
    "    seed: 随机数种子，是一个整数，当设置之后，每次生成的随机数都一样\n",
    "    name: 操作的名称\n",
    "'''\n",
    "stddev = 0.1 \n",
    "weights = {\n",
    "    'w1':tf.Variable(tf.random_normal([n_input,n_hidden_1],stddev=stddev)), #Variable（）用来构造任何类型和形状的Tensor（张量）。 初始值定义变量的类型和形状。 施工后，变量的类型和形状是固定的\n",
    "    'w2':tf.Variable(tf.random_normal([n_hidden_1,n_hidden_2],stddev=stddev)),\n",
    "    'out':tf.Variable(tf.random_normal([n_hidden_2,n_classes],stddev=stddev))\n",
    "}\n",
    "#偏置项\n",
    "biases = {\n",
    "    'b1':tf.Variable(tf.random_normal([n_hidden_1])),\n",
    "    'b2':tf.Variable(tf.random_normal([n_hidden_2])),\n",
    "    'out':tf.Variable(tf.random_normal([n_classes]))\n",
    "}\n",
    "print(\"NETWORK READY\")"
   ]
  },
  {
   "cell_type": "code",
   "execution_count": 4,
   "metadata": {
    "collapsed": true
   },
   "outputs": [],
   "source": [
    "def multilayer_perceptron(_X,_weights,_biases):\n",
    "    layer_1 = tf.nn.relu(tf.add(tf.matmul(_X,_weights['w1']),_biases['b1']))\n",
    "    layer_2 = tf.nn.relu(tf.add(tf.matmul(layer_1,_weights['w2']),_biases['b2']))\n",
    "    return (tf.matmul(layer_2,_weights['out'])+_biases['out'])"
   ]
  },
  {
   "cell_type": "code",
   "execution_count": 5,
   "metadata": {
    "collapsed": false
   },
   "outputs": [
    {
     "name": "stdout",
     "output_type": "stream",
     "text": [
      "WARNING:tensorflow:From <ipython-input-5-c97ddb5fdaca>:17: softmax_cross_entropy_with_logits (from tensorflow.python.ops.nn_ops) is deprecated and will be removed in a future version.\n",
      "Instructions for updating:\n",
      "\n",
      "Future major versions of TensorFlow will allow gradients to flow\n",
      "into the labels input on backprop by default.\n",
      "\n",
      "See @{tf.nn.softmax_cross_entropy_with_logits_v2}.\n",
      "\n",
      "FUNCTIONS READY\n"
     ]
    }
   ],
   "source": [
    "# PREDICTION\n",
    "pred = multilayer_perceptron(x,weights,biases)\n",
    "\n",
    "#LOSS AND OPTIMIZER 定义最优控制器\n",
    "'''\n",
    "tf.argmax(input, axis=None, name=None, dimension=None)\n",
    "\n",
    "此函数是对矩阵按行或列计算最大值\n",
    "\n",
    "参数\n",
    "input：输入Tensor\n",
    "axis：0表示按列，1表示按行\n",
    "name：名称\n",
    "dimension：和axis功能一样，默认axis取值优先。新加的字段\n",
    "返回：Tensor  一般是行或列的最大值下标向量\n",
    "'''\n",
    "cost = tf.reduce_mean(tf.nn.softmax_cross_entropy_with_logits(logits=pred,labels=y)) #计算出cost的均值 \n",
    "optm = tf.train.GradientDescentOptimizer(learning_rate=0.01).minimize(cost) #采用梯度下降优化cost值\n",
    "corr = tf.equal(tf.argmax(pred,1),tf.argmax(y,1)) #判断是否预测对\n",
    "accr = tf.reduce_mean(tf.cast(corr,\"float\")) #平均的精度为多少\n",
    "\n",
    "#INITIALIZER\n",
    "init = tf.global_variables_initializer()\n",
    "print(\"FUNCTIONS READY\")"
   ]
  },
  {
   "cell_type": "code",
   "execution_count": 6,
   "metadata": {
    "collapsed": false
   },
   "outputs": [
    {
     "name": "stdout",
     "output_type": "stream",
     "text": [
      "Epoch: 003/020 cost: 0.312826733\n",
      "TRAIN ACCURACY: 0.910\n",
      "TEST ACCURACY: 0.905\n",
      "Epoch: 007/020 cost: 0.240327804\n",
      "TRAIN ACCURACY: 0.910\n",
      "TEST ACCURACY: 0.926\n",
      "Epoch: 011/020 cost: 0.199365704\n",
      "TRAIN ACCURACY: 0.940\n",
      "TEST ACCURACY: 0.938\n",
      "Epoch: 015/020 cost: 0.170049531\n",
      "TRAIN ACCURACY: 0.950\n",
      "TEST ACCURACY: 0.945\n",
      "Epoch: 019/020 cost: 0.147246379\n",
      "TRAIN ACCURACY: 0.980\n",
      "TEST ACCURACY: 0.949\n",
      "OPTIMIZATION FINISHED\n"
     ]
    }
   ],
   "source": [
    "training_epochs = 20\n",
    "batch_size      = 100\n",
    "display_step    = 4\n",
    "#LAUNCH THE GRAPH\n",
    "sess = tf.Session()\n",
    "sess.run(init)\n",
    "#OPTIMIZE\n",
    "for epoch in range(training_epochs):\n",
    "    avg_cost = 0.\n",
    "    total_batch = int(mnist.train.num_examples/batch_size)\n",
    "    # ITERATION\n",
    "    for i in range(total_batch):\n",
    "        batch_xs,batch_ys = mnist.train.next_batch(batch_size) #取下一个batch\n",
    "        feeds = {x:batch_xs, y:batch_ys} \n",
    "        sess.run(optm,feed_dict=feeds) # feed_dict的作用是给使用placeholder创建出来的tensor赋值  #运行optm 并给tensor：上面的x y赋值 \n",
    "        avg_cost += sess.run(cost,feed_dict=feeds)\n",
    "    avg_cost = avg_cost/total_batch\n",
    "    \n",
    "    if(epoch+1)%display_step==0:\n",
    "        print(\"Epoch: %03d/%03d cost: %.9f\" % (epoch,training_epochs,avg_cost))\n",
    "        feeds = {x:batch_xs,y:batch_ys}\n",
    "        train_acc = sess.run(accr,feed_dict=feeds) #此时的fetch = accr\n",
    "        print(\"TRAIN ACCURACY: %.3f\"%(train_acc))\n",
    "        feeds = {x:mnist.test.images,y:mnist.test.labels}\n",
    "        test_acc = sess.run(accr,feed_dict=feeds) #此时的fetch = accr\n",
    "        print(\"TEST ACCURACY: %.3f\"%(test_acc))\n",
    "print(\"OPTIMIZATION FINISHED\")"
   ]
  },
  {
   "cell_type": "code",
   "execution_count": null,
   "metadata": {
    "collapsed": true
   },
   "outputs": [],
   "source": []
  }
 ],
 "metadata": {
  "anaconda-cloud": {},
  "kernelspec": {
   "display_name": "Python [default]",
   "language": "python",
   "name": "python3"
  },
  "language_info": {
   "codemirror_mode": {
    "name": "ipython",
    "version": 3
   },
   "file_extension": ".py",
   "mimetype": "text/x-python",
   "name": "python",
   "nbconvert_exporter": "python",
   "pygments_lexer": "ipython3",
   "version": "3.5.2"
  }
 },
 "nbformat": 4,
 "nbformat_minor": 1
}
