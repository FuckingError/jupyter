{
 "cells": [
  {
   "cell_type": "code",
   "execution_count": 35,
   "metadata": {
    "collapsed": false
   },
   "outputs": [],
   "source": [
    "import numpy as np\n",
    "import pandas as pd \n",
    "'''\n",
    "Pandas是Python的一个数据分析包，该工具为解决数据分析任务而创建。\n",
    "Pandas纳入大量库和标准数据模型，提供高效的操作数据集所需的工具。\n",
    "'''\n",
    "#内嵌绘图\n",
    "%matplotlib inline\n",
    "#绘图框架\n",
    "import matplotlib.pyplot as plt\n",
    "#里面有很多颜色映射表\n",
    "import matplotlib.cm as cm\n",
    "\n",
    "import tensorflow as tf\n",
    "import sys\n",
    "\n",
    "#学习率\n",
    "LEARNING_RATE = 1e-4\n",
    "#迭代次数\n",
    "TRAINING_ITERATIONS = 2500\n",
    "\n",
    "#解决过拟合 保留神经元的比例\n",
    "DROPOUT = 0.5\n",
    "BATCH_SIZE = 50\n",
    "\n",
    "#验证的数据量\n",
    "VALIDATION_SIZE = 2000\n",
    "\n",
    "#迭代多少次展示一次效果\n",
    "IMAGE_TO_DISPLAY = 10"
   ]
  },
  {
   "cell_type": "code",
   "execution_count": 36,
   "metadata": {
    "collapsed": false
   },
   "outputs": [
    {
     "name": "stdout",
     "output_type": "stream",
     "text": [
      "data(42000,785)\n",
      "   label  pixel0  pixel1  pixel2  pixel3  pixel4  pixel5  pixel6  pixel7  \\\n",
      "0      1       0       0       0       0       0       0       0       0   \n",
      "1      0       0       0       0       0       0       0       0       0   \n",
      "2      1       0       0       0       0       0       0       0       0   \n",
      "3      4       0       0       0       0       0       0       0       0   \n",
      "4      0       0       0       0       0       0       0       0       0   \n",
      "\n",
      "   pixel8    ...     pixel774  pixel775  pixel776  pixel777  pixel778  \\\n",
      "0       0    ...            0         0         0         0         0   \n",
      "1       0    ...            0         0         0         0         0   \n",
      "2       0    ...            0         0         0         0         0   \n",
      "3       0    ...            0         0         0         0         0   \n",
      "4       0    ...            0         0         0         0         0   \n",
      "\n",
      "   pixel779  pixel780  pixel781  pixel782  pixel783  \n",
      "0         0         0         0         0         0  \n",
      "1         0         0         0         0         0  \n",
      "2         0         0         0         0         0  \n",
      "3         0         0         0         0         0  \n",
      "4         0         0         0         0         0  \n",
      "\n",
      "[5 rows x 785 columns]\n"
     ]
    }
   ],
   "source": [
    "data = pd.read_csv('train.csv')  # pandas.core.frame.DataFrame\n",
    "print('data({0[0]},{0[1]})'.format(data.shape))  # 42000条数据 每条数据有785个数据   string.format  使用索引\n",
    "print(data.head()) #默认参数为5 取前五条"
   ]
  },
  {
   "cell_type": "markdown",
   "metadata": {},
   "source": [
    "### 可以看出整个数据分为 1列 label 和 784列 piexel值"
   ]
  },
  {
   "cell_type": "markdown",
   "metadata": {},
   "source": [
    "# 1.对图像进行操作 转换成标准的图像形式"
   ]
  },
  {
   "cell_type": "code",
   "execution_count": 54,
   "metadata": {
    "collapsed": false
   },
   "outputs": [
    {
     "name": "stdout",
     "output_type": "stream",
     "text": [
      "images(42000,784)\n"
     ]
    }
   ],
   "source": [
    "images= data.iloc[:,1:].values #将图像数据选择出来  取出作为 dnarray 形式\n",
    "\n",
    "#image 像素点的值 归一化\n",
    "#images = images.astype(np.float) #数据类型转换  省略也可以\n",
    "images = np.multiply(images,1.0/255.0) \n",
    "\n",
    "print('images({0[0]},{0[1]})'.format(images.shape))  #images就是一幅一幅图构成的ndarray"
   ]
  },
  {
   "cell_type": "code",
   "execution_count": 55,
   "metadata": {
    "collapsed": false
   },
   "outputs": [
    {
     "name": "stdout",
     "output_type": "stream",
     "text": [
      "image_size => 784\n",
      "image_width => 28\n",
      "image_height => 28\n"
     ]
    }
   ],
   "source": [
    "image_size = images.shape[1] #图像大小\n",
    "print('image_size => {0}'.format(image_size))\n",
    "\n",
    "image_width = image_height = np.sqrt(image_size).astype(np.uint8) # np.ceil 向正无穷方向取整  unit8 范围:0~255 \n",
    "\n",
    "print('image_width => {0}\\nimage_height => {1}'.format(image_width,image_height))\n"
   ]
  },
  {
   "cell_type": "code",
   "execution_count": 56,
   "metadata": {
    "collapsed": false
   },
   "outputs": [
    {
     "data": {
      "image/png": "[encoded data removed]",
      "text/plain": [
       "<matplotlib.figure.Figure at 0x13c9d860>"
      ]
     },
     "metadata": {},
     "output_type": "display_data"
    }
   ],
   "source": [
    "# 此时的图像数据是一条一条的  要转换成图像的标准形式并展示 \n",
    "def display(img):\n",
    "    one_image = img.reshape(image_width,image_height)\n",
    "    #展示\n",
    "    plt.axis('off') #不显示坐标\n",
    "    plt.imshow(one_image,cmap=cm.binary)\n",
    "\n",
    "display(images[IMAGE_TO_DISPLAY])  # 数据集提供的 测试能否展示的用的数据  此时也可以写images[0]。。。"
   ]
  },
  {
   "cell_type": "markdown",
   "metadata": {},
   "source": [
    "# 2.对label进行操作"
   ]
  },
  {
   "cell_type": "code",
   "execution_count": 57,
   "metadata": {
    "collapsed": false
   },
   "outputs": [],
   "source": [
    "#data['label'].values\n",
    "#data[[0,1]]  选取列可以直接这样  如果要选择某行到某行 需要使用切片"
   ]
  },
  {
   "cell_type": "code",
   "execution_count": 58,
   "metadata": {
    "collapsed": false
   },
   "outputs": [
    {
     "name": "stdout",
     "output_type": "stream",
     "text": [
      "labels_flat(42000)\n",
      "labels_flat[10] => 8\n"
     ]
    }
   ],
   "source": [
    "labels_flat = data[[0]].values.ravel()  # 将原本高维的label数组 转换成一维数组\n",
    "\n",
    "print('labels_flat({0})'.format(len(labels_flat)))\n",
    "print('labels_flat[{0}] => {1}'.format(IMAGE_TO_DISPLAY,labels_flat[IMAGE_TO_DISPLAY]))"
   ]
  },
  {
   "cell_type": "code",
   "execution_count": 59,
   "metadata": {
    "collapsed": false
   },
   "outputs": [
    {
     "name": "stdout",
     "output_type": "stream",
     "text": [
      "labels_count => 10\n"
     ]
    }
   ],
   "source": [
    "#得出label 一共有多少种\n",
    "labels_count = np.unique(labels_flat).shape[0]  # np.unique 去重 再排序\n",
    "\n",
    "print('labels_count => {0}'.format(labels_count))"
   ]
  },
  {
   "cell_type": "code",
   "execution_count": 60,
   "metadata": {
    "collapsed": false
   },
   "outputs": [],
   "source": [
    "# 将labels转换成 one_hot \n",
    "def dense_to_one_hot(labels_dense,num_classes):\n",
    "    num_labels = labels_dense.shape[0] #42000\n",
    "    index_offset = np.arange(num_labels) * num_classes # np.arange 向量的形式\n",
    "    labels_one_hot = np.zeros((num_labels,num_classes)) #二维数组\n",
    "    #拉平 在之前labels_flat\n",
    "    labels_one_hot.flat[index_offset + labels_dense] = 1\n",
    "    return labels_one_hot\n",
    "labels = dense_to_one_hot(labels_flat,labels_count)\n",
    "labels = labels.astype(np.uint8)"
   ]
  },
  {
   "cell_type": "code",
   "execution_count": 61,
   "metadata": {
    "collapsed": false
   },
   "outputs": [
    {
     "name": "stdout",
     "output_type": "stream",
     "text": [
      "labels(42000,10)\n",
      "labels[10] => [0 0 0 0 0 0 0 0 1 0]\n"
     ]
    }
   ],
   "source": [
    "print('labels({0[0]},{0[1]})'.format(labels.shape))\n",
    "print('labels[{0}] => {1}'.format(IMAGE_TO_DISPLAY,labels[IMAGE_TO_DISPLAY]))"
   ]
  },
  {
   "cell_type": "code",
   "execution_count": 63,
   "metadata": {
    "collapsed": false
   },
   "outputs": [
    {
     "name": "stdout",
     "output_type": "stream",
     "text": [
      "train_images(40000,784)\n",
      "validation_images(2000,784)\n"
     ]
    }
   ],
   "source": [
    "# 将数据集分成训练集和测试机\n",
    "validation_images = images[:VALIDATION_SIZE]\n",
    "validation_labels = labels[:VALIDATION_SIZE]\n",
    "\n",
    "train_images = images[VALIDATION_SIZE:]\n",
    "train_labels = labels[VALIDATION_SIZE:]\n",
    "\n",
    "print('train_images({0[0]},{0[1]})'.format(train_images.shape))\n",
    "print('validation_images({0[0]},{0[1]})'.format(validation_images.shape))"
   ]
  },
  {
   "cell_type": "markdown",
   "metadata": {},
   "source": [
    "# 3.数据预处理完成 进行调参"
   ]
  },
  {
   "cell_type": "code",
   "execution_count": 66,
   "metadata": {
    "collapsed": false
   },
   "outputs": [
    {
     "name": "stdout",
     "output_type": "stream",
     "text": [
      "Tensor(\"truncated_normal_2:0\", shape=(10, 0), dtype=float32)\n",
      "<tf.Variable 'Variable_2:0' shape=(10, 0) dtype=float32_ref>\n"
     ]
    }
   ],
   "source": [
    "#对权重参数与偏置参数进行初始化\n",
    "def weight_variable(shape):\n",
    "    initial = tf.truncated_normal(shape,stddev=0.1) #truncated_normal 正态分布产生随机数据  stddev  标准差 \n",
    "    return tf.Variable(initial) #定义图变量\n",
    "\n",
    "def bias_variable(shape):\n",
    "    initial = tf.constant(0.1,shape=shape)\n",
    "    return tf.Variable(initial)"
   ]
  },
  {
   "cell_type": "code",
   "execution_count": 12,
   "metadata": {
    "collapsed": true
   },
   "outputs": [],
   "source": [
    "# 卷积操作\n",
    "def conv2d(x,W):\n",
    "    return tf.nn.conv2d(x,W,strides=[1,1,1,1],padding='SAME')  # stride[batch_size,height,width,channel] 主要是改变中间两个变量"
   ]
  },
  {
   "cell_type": "code",
   "execution_count": 13,
   "metadata": {
    "collapsed": true
   },
   "outputs": [],
   "source": [
    "#池化操作\n",
    "def max_pool_2x2(x):\n",
    "    return tf.nn.max_pool(x,ksize=[1,2,2,1],strides=[1,2,2,1],padding='SAME') # ksize 多大的矩阵进行池化"
   ]
  },
  {
   "cell_type": "code",
   "execution_count": 14,
   "metadata": {
    "collapsed": true
   },
   "outputs": [],
   "source": [
    "#输入\n",
    "#images\n",
    "x = tf.placeholder('float',shape=[None,image_size])\n",
    "#labels\n",
    "y_ = tf.placeholder('float',shape=[None,labels_count])"
   ]
  },
  {
   "cell_type": "code",
   "execution_count": 15,
   "metadata": {
    "collapsed": false
   },
   "outputs": [],
   "source": [
    "#第一层卷积\n",
    "W_conv1 = weight_variable([5,5,1,32]) #5，5 filter的h和w 1表示channel 32表示 32个filter\n",
    "b_conv1 = bias_variable([32])\n",
    "\n",
    "# (40000,784) -> (40000,28,28,1)\n",
    "image = tf.reshape(x,[-1,image_width,image_height,1])\n",
    "\n",
    "h_conv1 = tf.nn.relu(conv2d(image,W_conv1)+b_conv1)\n",
    "# (40000,28,28,32)\n",
    "\n",
    "h_pool1 = max_pool_2x2(h_conv1)\n",
    "#(40000,14,14,32)"
   ]
  },
  {
   "cell_type": "code",
   "execution_count": 16,
   "metadata": {
    "collapsed": false
   },
   "outputs": [],
   "source": [
    "#第二层卷积\n",
    "W_conv2 = weight_variable([5,5,32,64])\n",
    "b_conv2 = bias_variable([64])\n",
    "\n",
    "h_conv2 = tf.nn.relu(conv2d(h_pool1,W_conv2)+b_conv2)\n",
    "#(40000,14,14,64)\n",
    "h_pool2 = max_pool_2x2(h_conv2)\n",
    "#（40000，7，7，64）"
   ]
  },
  {
   "cell_type": "code",
   "execution_count": 17,
   "metadata": {
    "collapsed": false
   },
   "outputs": [],
   "source": [
    "#全连接操作  \n",
    "W_fc1 = weight_variable([7*7*64,1024])  #转换成1024维的向量   定义权重参数\n",
    "b_fc1 = bias_variable([1024])\n",
    "\n",
    "#将原本三维立体的图 拉成一维向量  （40000，3136）\n",
    "h_pool2_flat = tf.reshape(h_pool2,[-1,7*7*64])  # -1 是python中的一种自动计算的表达\n",
    "\n",
    "h_fc1 = tf.nn.relu(tf.matmul(h_pool2_flat,W_fc1) + b_fc1)   #矩阵乘法\n",
    "# (40000,1024)"
   ]
  },
  {
   "cell_type": "code",
   "execution_count": 18,
   "metadata": {
    "collapsed": false
   },
   "outputs": [],
   "source": [
    "# dropout\n",
    "keep_prob = tf.placeholder('float')  #此函数可以理解为形参，用于定义过程，在执行的时候再赋具体的值\n",
    "h_fc1_drop = tf.nn.dropout(h_fc1,keep_prob)"
   ]
  },
  {
   "cell_type": "code",
   "execution_count": 19,
   "metadata": {
    "collapsed": true
   },
   "outputs": [],
   "source": [
    "W_fc2 = weight_variable([1024,labels_count])\n",
    "b_fc2 = bias_variable([labels_count])\n",
    "\n",
    "y = tf.nn.softmax(tf.matmul(h_fc1_drop,W_fc2)+b_fc2) #得到10分类的概率值\n",
    "#（40000，10）"
   ]
  },
  {
   "cell_type": "code",
   "execution_count": 20,
   "metadata": {
    "collapsed": false
   },
   "outputs": [],
   "source": [
    "cross_entropy = -tf.reduce_sum(y_*tf.log(y)) #损失值\n",
    "\n",
    "#优化\n",
    "train_step = tf.train.GradientDescentOptimizer(LEARNING_RATE).minimize(cross_entropy)\n",
    "\n",
    "#evaluation 评估  正确的百分率\n",
    "correct_prediction = tf.equal(tf.argmax(y,1),tf.argmax(y_,1))\n",
    "\n",
    "accuracy = tf.reduce_mean(tf.cast(correct_prediction,'float'))"
   ]
  },
  {
   "cell_type": "code",
   "execution_count": 21,
   "metadata": {
    "collapsed": true
   },
   "outputs": [],
   "source": [
    "predict = tf.argmax(y,1)"
   ]
  },
  {
   "cell_type": "code",
   "execution_count": 27,
   "metadata": {
    "collapsed": true
   },
   "outputs": [],
   "source": [
    "#迭代\n",
    "epochs_completed = 0\n",
    "index_in_epoch = 0\n",
    "num_examples = train_images.shape[0]\n",
    "\n",
    "def next_batch(batch_size):\n",
    "    global train_images\n",
    "    global train_labels\n",
    "    global index_in_epoch\n",
    "    global epochs_completed\n",
    "    \n",
    "    start = index_in_epoch\n",
    "    index_in_epoch += batch_size\n",
    "    \n",
    "    \n",
    "    if index_in_epoch > num_examples:\n",
    "        epochs_completed += 1\n",
    "        \n",
    "        #shuffle the data\n",
    "        perm = np.arange(num_examples)\n",
    "        np.random.shuffle(perm)\n",
    "        train_images = train_images[perm]\n",
    "        train_labels = train_labels[perm]\n",
    "            \n",
    "        #start next epoch\n",
    "        start = 0\n",
    "        index_in_epoch = batch_size\n",
    "        assert batch_size <= num_examples\n",
    "    end = index_in_epoch\n",
    "    return train_images[start:end],train_labels[start:end]"
   ]
  },
  {
   "cell_type": "code",
   "execution_count": 28,
   "metadata": {
    "collapsed": false
   },
   "outputs": [
    {
     "name": "stderr",
     "output_type": "stream",
     "text": [
      "D:\\Anaconda3-4.2.0\\lib\\site-packages\\tensorflow\\python\\client\\session.py:1645: UserWarning: An interactive session is already active. This can cause out-of-memory errors in some cases. You must explicitly call `InteractiveSession.close()` to release resources held by the other session(s).\n",
      "  warnings.warn('An interactive session is already active. This can '\n"
     ]
    }
   ],
   "source": [
    "#start TensorFlow session\n",
    "init = tf.global_variables_initializer()\n",
    "sess = tf.InteractiveSession()\n",
    "\n",
    "sess.run(init)"
   ]
  },
  {
   "cell_type": "code",
   "execution_count": null,
   "metadata": {
    "collapsed": false
   },
   "outputs": [
    {
     "name": "stdout",
     "output_type": "stream",
     "text": [
      "training_arracy / validation_accuracy => 0.06 / 0.10 for step 0\n",
      "training_arracy / validation_accuracy => 0.12 / 0.12 for step 1\n",
      "training_arracy / validation_accuracy => 0.20 / 0.22 for step 2\n",
      "training_arracy / validation_accuracy => 0.28 / 0.32 for step 3\n"
     ]
    }
   ],
   "source": [
    "train_accuracies = []\n",
    "validation_accuracies = []\n",
    "x_range = []\n",
    "\n",
    "display_step=1\n",
    "\n",
    "for i in range(TRAINING_ITERATIONS):\n",
    "    #get new batch\n",
    "    batch_xs, batch_ys = next_batch(BATCH_SIZE)\n",
    "    \n",
    "    #每隔多少次 展示一次\n",
    "    if i%display_step ==0 or (i+1) == TRAINING_ITERATIONS:\n",
    "        train_accuracy = accuracy.eval(feed_dict={x:batch_xs,\n",
    "                                                  y_: batch_ys,\n",
    "                                                  keep_prob: 1.0}) # keep_prob 保留率\n",
    "    \n",
    "        if(VALIDATION_SIZE):\n",
    "            validation_accuracy = accuracy.eval(feed_dict={x:validation_images[0:BATCH_SIZE],\n",
    "                                                          y_:validation_labels[0:BATCH_SIZE],\n",
    "                                                          keep_prob:1.0})\n",
    "            print('training_arracy / validation_accuracy => %.2f / %.2f for step %d'%(train_accuracy,validation_accuracy,i))\n",
    "            \n",
    "            validation_accuracies.append(validation_accuracy)\n",
    "        \n",
    "        else:\n",
    "            print('training_accuracy => %.4f for step %d'%(train_accuracy,i))\n",
    "        train_accuracies.append(train_accuracy)\n",
    "        x_range.append(i)\n",
    "        \n",
    "        # increase display_step\n",
    "        if i%(display_step*10) == 0 and i:\n",
    "            display_step *= 10\n",
    "    #train on batch\n",
    "    sess.run(train_step,feed_dict={x:batch_xs,y_:batch_ys,keep_prob:DROPOUT})\n",
    "    "
   ]
  },
  {
   "cell_type": "code",
   "execution_count": null,
   "metadata": {
    "collapsed": true
   },
   "outputs": [],
   "source": []
  }
 ],
 "metadata": {
  "anaconda-cloud": {},
  "kernelspec": {
   "display_name": "Python [default]",
   "language": "python",
   "name": "python3"
  },
  "language_info": {
   "codemirror_mode": {
    "name": "ipython",
    "version": 3
   },
   "file_extension": ".py",
   "mimetype": "text/x-python",
   "name": "python",
   "nbconvert_exporter": "python",
   "pygments_lexer": "ipython3",
   "version": "3.5.2"
  }
 },
 "nbformat": 4,
 "nbformat_minor": 1
}
