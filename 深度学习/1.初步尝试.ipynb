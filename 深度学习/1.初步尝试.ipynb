{
 "cells": [
  {
   "cell_type": "code",
   "execution_count": 5,
   "metadata": {
    "collapsed": false
   },
   "outputs": [
    {
     "name": "stdout",
     "output_type": "stream",
     "text": [
      "[[2.]]\n"
     ]
    }
   ],
   "source": [
    "import tensorflow as tf\n",
    "a = 3\n",
    "#create a variable\n",
    "#行向量\n",
    "w = tf.Variable([[0.5,1.0]])    #定义一个变量 必须是用tensorflow的格式\n",
    "#列向量\n",
    "x = tf.Variable([[2.0],[1.0]])\n",
    "\n",
    "#w乘x\n",
    "y = tf.matmul(w,x) \n",
    "\n",
    "#variables have to be explicitly initialized before you can run 0px\n",
    "#全局变量的初始化操作 此时还没有执行\n",
    "init_op = tf.global_variables_initializer() \n",
    "#Session是一个计算区域\n",
    "with tf.Session() as sess:\n",
    "    sess.run(init_op) #执行初始化操作  操作需要run才能执行\n",
    "    print (y.eval())  #.eval 是将y中的实际值取了出来"
   ]
  },
  {
   "cell_type": "code",
   "execution_count": 8,
   "metadata": {
    "collapsed": false
   },
   "outputs": [
    {
     "ename": "SyntaxError",
     "evalue": "invalid syntax (<ipython-input-8-e91dc3adf0f6>, line 2)",
     "output_type": "error",
     "traceback": [
      "\u001b[0;36m  File \u001b[0;32m\"<ipython-input-8-e91dc3adf0f6>\"\u001b[0;36m, line \u001b[0;32m2\u001b[0m\n\u001b[0;31m    tf.zeros([3,4],int32) ==> [[0,0,0,0],[0,0,0,0],[0,0,0,0]]\u001b[0m\n\u001b[0m                            ^\u001b[0m\n\u001b[0;31mSyntaxError\u001b[0m\u001b[0;31m:\u001b[0m invalid syntax\n"
     ]
    }
   ],
   "source": [
    "#三行四列的空矩阵 类型是int32\n",
    "tf.zeros([3,4],int32) ==> [[0,.0,0,0],[0,0,0,0],[0,0,0,0]]\n",
    "\n",
    "#tensor is [[1,2,3],[4,5,6]]\n",
    "tf.zeros_like(tensor)  #全0\n",
    "tf.ones([2,3],int32)   #全1\n",
    "tf.ones_like(tensor) \n",
    "\n",
    "#常量矩阵\n",
    "tensor = tf.constant([1,2,3,4,5,6,7]) \n",
    "# 二维常量矩阵 值为-1\n",
    "tensor = tf.constant(-1.0,shape=[2,3])\n",
    "\n",
    "tf.linspace(10.0,12.0,3,name=\"linspace\")\n",
    "\n",
    "tf.range(start,limit,delta)\n",
    "\n"
   ]
  },
  {
   "cell_type": "code",
   "execution_count": null,
   "metadata": {
    "collapsed": true
   },
   "outputs": [],
   "source": []
  }
 ],
 "metadata": {
  "anaconda-cloud": {},
  "kernelspec": {
   "display_name": "Python [default]",
   "language": "python",
   "name": "python3"
  },
  "language_info": {
   "codemirror_mode": {
    "name": "ipython",
    "version": 3
   },
   "file_extension": ".py",
   "mimetype": "text/x-python",
   "name": "python",
   "nbconvert_exporter": "python",
   "pygments_lexer": "ipython3",
   "version": "3.5.2"
  }
 },
 "nbformat": 4,
 "nbformat_minor": 1
}
